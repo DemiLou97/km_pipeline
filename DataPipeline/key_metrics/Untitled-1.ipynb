{
 "cells": [
  {
   "cell_type": "code",
   "execution_count": null,
   "metadata": {},
   "outputs": [],
   "source": [
    "import pandas as pd\n",
    "\n",
    "import glob  \n",
    "\n",
    "import os \n",
    "\n",
    "import shutil\n",
    "\n",
    "path=glob.glob('D:/test/download/*xls*')\n",
    "\n",
    "for x in path :\n",
    "    ### lazada\n",
    "    if 'Business Advisor - Product - Performance' in x:\n",
    "        # get date\n",
    "        tmp_date=pd.read_excel(x, header=0, )\n",
    "        date=tmp_date.columns[0].split(':')[-1].split('_')[-1]\n",
    "        # rename\n",
    "        na='D:/test/download/laz_biz_'+date+'.xls'\n",
    "        os.rename(x,na)\n",
    "        # move \n",
    "        des='D:/test/platform_lazada/business_advisor/raw/laz_biz_'+date+'.xls'\n",
    "        shutil.move(na,des)\n",
    "    ### shopee overall    \n",
    "    elif 'tefal_vn_official.shopee' in x:\n",
    "        # get date\n",
    "        date=x.split('.')[-2]\n",
    "        # date=tmp[:4]+'-'+tmp[4:6]+'-'+tmp[6:8]+'_'+tmp[9:13]+'-'+tmp[13:15]+'-'+tmp[15:17]\n",
    "        # rename\n",
    "        na='D:/test/download/shp_biz_overall_'+date+'.xlsx'\n",
    "        os.rename(x,na)\n",
    "        # move \n",
    "        des='D:/test/platform_shopee/business_advisor/raw/overall/shp_biz_overall_'+date+'.xlsx'\n",
    "        shutil.move(na,des)  \n",
    "    ### shopee product\n",
    "    elif 'export_report.parentskudetail' in x:\n",
    "        # get date\n",
    "        date=x.split('.')[-2].replace('_','-')\n",
    "        # date=tmp[:4]+'-'+tmp[4:6]+'-'+tmp[6:8]+'_'+tmp[9:13]+'-'+tmp[13:15]+'-'+tmp[15:17]\n",
    "        # rename\n",
    "        na='D:/test/download/shp_biz_product_'+date+'.xlsx'\n",
    "        os.rename(x,na)\n",
    "        # move \n",
    "        des='D:/test/platform_shopee/business_advisor/raw/product/shp_biz_product_'+date+'.xlsx'\n",
    "        shutil.move(na,des)\n",
    "    # ### tiki msb\n",
    "    elif 'SKU performance' in x:\n",
    "        # get date\n",
    "        date=(x.split(' ')[-1]).split('.xlsx')[0].replace('_','-')\n",
    "        #date=tmp[:4]+'-'+tmp[4:6]+'-'+tmp[6:8]+'_'+tmp[9:13]+'-'+tmp[13:15]+'-'+tmp[15:17]\n",
    "        # rename\n",
    "        na='D:/test/download/tiki_biz_msb_'+date+'.xlsx'\n",
    "        os.rename(x,na)\n",
    "        # move \n",
    "        des='D:/test/platform_tiki/business_advisor/raw/msb/tiki_biz_msb_'+date+'.xlsx'\n",
    "        shutil.move(na,des)\n",
    "    # ### tiki seller centre\n",
    "    elif 'Tefal.Official.Store' in x:\n",
    "        date=x.split('.')[-2]\n",
    "        # date=tmp[:4]+'-'+tmp[4:6]+'-'+tmp[6:8]\n",
    "        # rename\n",
    "        na='D:/test/download/tiki_biz_seller-center_'+date+'.xlsx'   \n",
    "        os.rename(x,na)\n",
    "        # move \n",
    "        des='D:/test/platform_tiki/business_advisor/raw/seller center/tiki_biz_seller-center_'+date+'.xlsx'\n",
    "    else: \n",
    "        # get date\n",
    "        tmp=(x.split('download/')[-1]).split('.xls')[0]\n",
    "        date=tmp[4:8]+tmp[2:4]+tmp[:2]\n",
    "        # rename\n",
    "        na='D:/test/download/laz_biz_'+date+'.xls'\n",
    "        os.rename(x,na)\n",
    "        # move \n",
    "        des='D:/test/platform_lazada/business_advisor/raw/laz_biz_'+date+'.xls'\n",
    "        shutil.move(na,des)"
   ]
  },
  {
   "cell_type": "code",
   "execution_count": 13,
   "metadata": {},
   "outputs": [
    {
     "data": {
      "text/plain": [
       "'20210101-20210131'"
      ]
     },
     "execution_count": 13,
     "metadata": {},
     "output_type": "execute_result"
    }
   ],
   "source": [
    "x='D:\\test\\download\\tefal_vn_official.shopee-shop-stats.20210101-20210131.xlsx'\n",
    "\n",
    "x=x.split('.')[-2]\n",
    "\n",
    "x"
   ]
  },
  {
   "cell_type": "code",
   "execution_count": 11,
   "metadata": {},
   "outputs": [
    {
     "data": {
      "text/plain": [
       "'20220101-20220101'"
      ]
     },
     "execution_count": 11,
     "metadata": {},
     "output_type": "execute_result"
    }
   ],
   "source": [
    "x='D:\\test\\download\\export_report.parentskudetail.20220101_20220101.xlsx'\n",
    "\n",
    "x.split('.')[-2].replace('_','-')"
   ]
  },
  {
   "cell_type": "code",
   "execution_count": 9,
   "metadata": {},
   "outputs": [
    {
     "data": {
      "text/plain": [
       "'20220101-20220131'"
      ]
     },
     "execution_count": 9,
     "metadata": {},
     "output_type": "execute_result"
    }
   ],
   "source": [
    "x='D:\\test\\download\\SKU performance 20220101_20220131.xlsx'\n",
    "\n",
    "x= (x.split(' ')[-1]).split('.xlsx')[0].replace('_','-')\n",
    "\n",
    "x"
   ]
  },
  {
   "cell_type": "code",
   "execution_count": 2,
   "metadata": {},
   "outputs": [
    {
     "data": {
      "text/plain": [
       "'20220101'"
      ]
     },
     "execution_count": 2,
     "metadata": {},
     "output_type": "execute_result"
    }
   ],
   "source": [
    "x='/mnt/d/ubuntu\\test\\download\\Tefal.Official.Store.-.Chính.hãng.product-stats.20220101.20220101.xlsx'\n",
    "\n",
    "x=x.split('.')[-2]\n",
    "\n",
    "x\n"
   ]
  },
  {
   "cell_type": "code",
   "execution_count": 6,
   "metadata": {},
   "outputs": [
    {
     "data": {
      "text/plain": [
       "'20220201'"
      ]
     },
     "execution_count": 6,
     "metadata": {},
     "output_type": "execute_result"
    }
   ],
   "source": [
    "x='/mnt/d/ubuntu/test/download/01022022.xls'\n",
    "\n",
    "x=(x.split('download/')[-1]).split('.xls')[0]\n",
    "\n",
    "x=x[4:8]+x[2:4]+x[:2]\n",
    "x"
   ]
  },
  {
   "cell_type": "code",
   "execution_count": null,
   "metadata": {},
   "outputs": [],
   "source": []
  }
 ],
 "metadata": {
  "kernelspec": {
   "display_name": "Python 3.10.6 64-bit",
   "language": "python",
   "name": "python3"
  },
  "language_info": {
   "codemirror_mode": {
    "name": "ipython",
    "version": 3
   },
   "file_extension": ".py",
   "mimetype": "text/x-python",
   "name": "python",
   "nbconvert_exporter": "python",
   "pygments_lexer": "ipython3",
   "version": "3.10.6"
  },
  "orig_nbformat": 4,
  "vscode": {
   "interpreter": {
    "hash": "916dbcbb3f70747c44a77c7bcd40155683ae19c65e1c03b4aa3499c5328201f1"
   }
  }
 },
 "nbformat": 4,
 "nbformat_minor": 2
}
